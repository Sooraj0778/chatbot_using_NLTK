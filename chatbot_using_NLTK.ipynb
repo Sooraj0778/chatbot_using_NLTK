{
 "cells": [
  {
   "cell_type": "code",
   "execution_count": 1,
   "id": "06fe3bd5",
   "metadata": {},
   "outputs": [],
   "source": [
    "import numpy as np\n",
    "import nltk \n",
    "import string\n",
    "import random"
   ]
  },
  {
   "cell_type": "code",
   "execution_count": 2,
   "id": "de50405d",
   "metadata": {},
   "outputs": [],
   "source": [
    "f = open('f1_.txt','r',errors = 'ignore')\n",
    "raw_doc = f.read()"
   ]
  },
  {
   "cell_type": "code",
   "execution_count": 3,
   "id": "a9c4e4ee",
   "metadata": {},
   "outputs": [
    {
     "name": "stderr",
     "output_type": "stream",
     "text": [
      "[nltk_data] Downloading package punkt to\n",
      "[nltk_data]     C:\\Users\\LENOVO\\AppData\\Roaming\\nltk_data...\n",
      "[nltk_data]   Package punkt is already up-to-date!\n",
      "[nltk_data] Downloading package wordnet to\n",
      "[nltk_data]     C:\\Users\\LENOVO\\AppData\\Roaming\\nltk_data...\n",
      "[nltk_data]   Package wordnet is already up-to-date!\n",
      "[nltk_data] Downloading package omw-1.4 to\n",
      "[nltk_data]     C:\\Users\\LENOVO\\AppData\\Roaming\\nltk_data...\n",
      "[nltk_data]   Package omw-1.4 is already up-to-date!\n"
     ]
    }
   ],
   "source": [
    "raw_doc = raw_doc.lower()\n",
    "nltk.download('punkt') #using the punkt tokenizer\n",
    "nltk.download('wordnet')\n",
    "nltk.download('omw-1.4')\n",
    "sentence_tokens = nltk.sent_tokenize(raw_doc)\n",
    "word_tokens = nltk.word_tokenize(raw_doc)"
   ]
  },
  {
   "cell_type": "code",
   "execution_count": 4,
   "id": "828c0e6d",
   "metadata": {},
   "outputs": [],
   "source": [
    "sentence_tokens = nltk.sent_tokenize(raw_doc)\n",
    "word_tokens = nltk.word_tokenize(raw_doc)"
   ]
  },
  {
   "cell_type": "code",
   "execution_count": 5,
   "id": "be005776",
   "metadata": {},
   "outputs": [
    {
     "data": {
      "text/plain": [
       "['### what is formula one?',\n",
       " \"#### overview\\nformula one (f1) is the highest class of single-seater auto racing sanctioned by the fã©dã©ration internationale de l'automobile (fia).\",\n",
       " 'it represents the pinnacle of motorsport, featuring cutting-edge technology, the fastest race cars, and the best drivers in the world.',\n",
       " '#### key components of formula one\\n\\n**1. races and format**\\n- **grands prix**: the f1 season consists of a series of races known as grands prix, held worldwide on various circuits, including both permanent race tracks and temporary street circuits.',\n",
       " '- **race weekend**: typically includes three practice sessions, a qualifying session, and the main race.']"
      ]
     },
     "execution_count": 5,
     "metadata": {},
     "output_type": "execute_result"
    }
   ],
   "source": [
    "sentence_tokens[:5]"
   ]
  },
  {
   "cell_type": "code",
   "execution_count": 6,
   "id": "c7616124",
   "metadata": {},
   "outputs": [
    {
     "data": {
      "text/plain": [
       "['#', '#', '#', 'what', 'is']"
      ]
     },
     "execution_count": 6,
     "metadata": {},
     "output_type": "execute_result"
    }
   ],
   "source": [
    "word_tokens[:5]"
   ]
  },
  {
   "cell_type": "code",
   "execution_count": 7,
   "id": "cdee3afd",
   "metadata": {},
   "outputs": [],
   "source": [
    "lemmer = nltk.stem.WordNetLemmatizer()\n",
    "def LemTokens(tokens):\n",
    "    return [lemmer.lemmatize(token) for token in tokens]\n",
    "remove_punc_dict = dict((ord(punct), None) for punct in string.punctuation)\n",
    "def LemNormalize(text):\n",
    "    return LemTokens(nltk.word_tokenize(text.lower().translate(remove_punc_dict)))"
   ]
  },
  {
   "cell_type": "code",
   "execution_count": 8,
   "id": "657cd17f",
   "metadata": {},
   "outputs": [],
   "source": [
    "greet_inputs = ('hello','hi','whassup','how are you?','Namasta')\n",
    "greet_responses = ('hi','Hey','Hey There!','There there!!','namasta!')\n",
    "def greet(sentence):\n",
    "    for word in sentence.split():\n",
    "        if word.lower() in greet_inputs:\n",
    "            return random.choice(greet_responses)"
   ]
  },
  {
   "cell_type": "code",
   "execution_count": 9,
   "id": "5747617d",
   "metadata": {},
   "outputs": [],
   "source": [
    "from sklearn.feature_extraction.text import TfidfVectorizer\n",
    "from sklearn.metrics.pairwise import cosine_similarity"
   ]
  },
  {
   "cell_type": "code",
   "execution_count": 10,
   "id": "784cd476",
   "metadata": {},
   "outputs": [],
   "source": [
    "def response(user_response):\n",
    "    robo1_response = ''\n",
    "    TfidfVec = TfidfVectorizer(tokenizer = LemNormalize, stop_words = 'english')\n",
    "    tfidf = TfidfVec.fit_transform(sentence_tokens)\n",
    "    vals = cosine_similarity(tfidf[-1], tfidf)\n",
    "    idx = vals.argsort()[0][-2]\n",
    "    flat = vals.flatten()\n",
    "    flat.sort()\n",
    "    req_tfidf = flat[-2]\n",
    "    if (req_tfidf == 0):\n",
    "        robo1_response = robo1_response + \"I am sorry. Unable to  Understand you!\"\n",
    "        return robo1_response\n",
    "    else:\n",
    "        robo1_response = robo1_response + sentence_tokens[idx]\n",
    "        return robo1_response"
   ]
  },
  {
   "cell_type": "code",
   "execution_count": 11,
   "id": "3fa906a2",
   "metadata": {},
   "outputs": [
    {
     "name": "stdout",
     "output_type": "stream",
     "text": [
      "Hello! I am Suraj bot. Start typing your text after greeting to talk to me. For ending conve type bye!\n",
      "bye\n",
      "Bot: Goodbye!\n"
     ]
    }
   ],
   "source": [
    "flag = True\n",
    "print('Hello! I am Suraj bot. Start typing your text after greeting to talk to me. For ending conve type bye!')\n",
    "while(flag == True):\n",
    "    user_response = input()\n",
    "    user_response = user_response.lower()\n",
    "    if(user_response != 'bye'):\n",
    "        if(user_response == 'thank you' or user_response == 'thanks'):\n",
    "            flag = False\n",
    "            print('Bot: you are welcome...')\n",
    "        else:\n",
    "            if(greet(user_response) != None):\n",
    "                print('Bot ' + greet(user_response))\n",
    "            else:\n",
    "                sentence_tokens.append(user_response)\n",
    "                word_tokens = word_tokens + nltk.word_tokenize(user_response)\n",
    "                final_words = list(set(word_tokens))\n",
    "                print('Bot: ', end = ' ')\n",
    "                print(response(user_response))\n",
    "                sentence_tokens.remove(user_response)\n",
    "    else:\n",
    "        flag = False\n",
    "        print('Bot: Goodbye!')"
   ]
  },
  {
   "cell_type": "code",
   "execution_count": null,
   "id": "c6460088",
   "metadata": {},
   "outputs": [],
   "source": []
  }
 ],
 "metadata": {
  "kernelspec": {
   "display_name": "Python 3 (ipykernel)",
   "language": "python",
   "name": "python3"
  },
  "language_info": {
   "codemirror_mode": {
    "name": "ipython",
    "version": 3
   },
   "file_extension": ".py",
   "mimetype": "text/x-python",
   "name": "python",
   "nbconvert_exporter": "python",
   "pygments_lexer": "ipython3",
   "version": "3.10.9"
  }
 },
 "nbformat": 4,
 "nbformat_minor": 5
}
